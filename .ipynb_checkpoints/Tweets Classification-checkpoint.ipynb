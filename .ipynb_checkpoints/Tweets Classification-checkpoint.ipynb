{
 "cells": [
  {
   "cell_type": "markdown",
   "metadata": {},
   "source": [
    "# TWEETS CLASSIFICATION"
   ]
  },
  {
   "cell_type": "markdown",
   "metadata": {},
   "source": [
    "https://www.analyticsvidhya.com/blog/2018/04/a-comprehensive-guide-to-understand-and-implement-text-classification-in-python/"
   ]
  },
  {
   "cell_type": "markdown",
   "metadata": {},
   "source": [
    "# Import data"
   ]
  },
  {
   "cell_type": "code",
   "execution_count": 1,
   "metadata": {},
   "outputs": [
    {
     "ename": "ModuleNotFoundError",
     "evalue": "No module named 'spacy'",
     "output_type": "error",
     "traceback": [
      "\u001b[1;31m---------------------------------------------------------------------------\u001b[0m",
      "\u001b[1;31mModuleNotFoundError\u001b[0m                       Traceback (most recent call last)",
      "\u001b[1;32m<ipython-input-1-c358f3729b47>\u001b[0m in \u001b[0;36m<module>\u001b[1;34m\u001b[0m\n\u001b[0;32m      7\u001b[0m \u001b[1;33m\u001b[0m\u001b[0m\n\u001b[0;32m      8\u001b[0m \u001b[1;32mimport\u001b[0m \u001b[0mre\u001b[0m\u001b[1;33m\u001b[0m\u001b[1;33m\u001b[0m\u001b[0m\n\u001b[1;32m----> 9\u001b[1;33m \u001b[1;32mimport\u001b[0m \u001b[0mspacy\u001b[0m\u001b[1;33m\u001b[0m\u001b[1;33m\u001b[0m\u001b[0m\n\u001b[0m\u001b[0;32m     10\u001b[0m \u001b[1;33m\u001b[0m\u001b[0m\n\u001b[0;32m     11\u001b[0m \u001b[1;32mfrom\u001b[0m \u001b[0msklearn\u001b[0m\u001b[1;33m.\u001b[0m\u001b[0mfeature_extraction\u001b[0m\u001b[1;33m.\u001b[0m\u001b[0mtext\u001b[0m \u001b[1;32mimport\u001b[0m \u001b[0mCountVectorizer\u001b[0m\u001b[1;33m,\u001b[0m\u001b[0mTfidfVectorizer\u001b[0m\u001b[1;33m\u001b[0m\u001b[1;33m\u001b[0m\u001b[0m\n",
      "\u001b[1;31mModuleNotFoundError\u001b[0m: No module named 'spacy'"
     ]
    }
   ],
   "source": [
    "# import dependencies\n",
    "import pandas as pd\n",
    "import numpy as np\n",
    "import matplotlib.pyplot as plt\n",
    "import seaborn as sns\n",
    "import os\n",
    "\n",
    "import re\n",
    "import spacy\n",
    "\n",
    "from sklearn.feature_extraction.text import CountVectorizer,TfidfVectorizer\n",
    "from sklearn.base import TransformerMixin\n",
    "from sklearn.pipeline import Pipeline"
   ]
  },
  {
   "cell_type": "code",
   "execution_count": 2,
   "metadata": {},
   "outputs": [
    {
     "name": "stderr",
     "output_type": "stream",
     "text": [
      "Using TensorFlow backend.\n"
     ]
    }
   ],
   "source": [
    "from sklearn import model_selection, preprocessing, linear_model, naive_bayes, metrics, svm\n",
    "from sklearn.feature_extraction.text import TfidfVectorizer, CountVectorizer\n",
    "from sklearn import decomposition, ensemble\n",
    "\n",
    "import pandas, xgboost, numpy, string#, textblob\n",
    "from keras.preprocessing import text, sequence\n",
    "from keras import layers, models, optimizers"
   ]
  },
  {
   "cell_type": "code",
   "execution_count": 3,
   "metadata": {},
   "outputs": [
    {
     "data": {
      "text/plain": [
       "['.ipynb_checkpoints',\n",
       " 'results.csv',\n",
       " 'sample_submission.csv',\n",
       " 'sentiment140_160k_tweets_train.csv',\n",
       " 'sentiment140_test.csv',\n",
       " 'Tweets Classification.ipynb']"
      ]
     },
     "execution_count": 3,
     "metadata": {},
     "output_type": "execute_result"
    }
   ],
   "source": [
    "os.listdir()"
   ]
  },
  {
   "cell_type": "code",
   "execution_count": 4,
   "metadata": {},
   "outputs": [],
   "source": [
    "# Import train test\n",
    "train = pd.read_csv('sentiment140_160k_tweets_train.csv')\n",
    "test = pd.read_csv('sentiment140_test.csv')"
   ]
  },
  {
   "cell_type": "code",
   "execution_count": 5,
   "metadata": {},
   "outputs": [
    {
     "data": {
      "text/html": [
       "<div>\n",
       "<style scoped>\n",
       "    .dataframe tbody tr th:only-of-type {\n",
       "        vertical-align: middle;\n",
       "    }\n",
       "\n",
       "    .dataframe tbody tr th {\n",
       "        vertical-align: top;\n",
       "    }\n",
       "\n",
       "    .dataframe thead th {\n",
       "        text-align: right;\n",
       "    }\n",
       "</style>\n",
       "<table border=\"1\" class=\"dataframe\">\n",
       "  <thead>\n",
       "    <tr style=\"text-align: right;\">\n",
       "      <th></th>\n",
       "      <th>target</th>\n",
       "      <th>ids</th>\n",
       "      <th>user</th>\n",
       "      <th>text</th>\n",
       "    </tr>\n",
       "  </thead>\n",
       "  <tbody>\n",
       "    <tr>\n",
       "      <th>0</th>\n",
       "      <td>p</td>\n",
       "      <td>1978186076</td>\n",
       "      <td>ceruleanbreeze</td>\n",
       "      <td>@nocturnalie Anyway, and now Abby and I share ...</td>\n",
       "    </tr>\n",
       "    <tr>\n",
       "      <th>1</th>\n",
       "      <td>p</td>\n",
       "      <td>1994697891</td>\n",
       "      <td>enthusiasticjen</td>\n",
       "      <td>@JoeGigantino Few times I'm trying to leave co...</td>\n",
       "    </tr>\n",
       "    <tr>\n",
       "      <th>2</th>\n",
       "      <td>p</td>\n",
       "      <td>2191885992</td>\n",
       "      <td>LifeRemixed</td>\n",
       "      <td>@AngieGriffin Good Morning Angie  I'll be in t...</td>\n",
       "    </tr>\n",
       "    <tr>\n",
       "      <th>3</th>\n",
       "      <td>p</td>\n",
       "      <td>1753662211</td>\n",
       "      <td>lovemandy</td>\n",
       "      <td>had a good day driving up mountains, visiting ...</td>\n",
       "    </tr>\n",
       "    <tr>\n",
       "      <th>4</th>\n",
       "      <td>p</td>\n",
       "      <td>2177442789</td>\n",
       "      <td>_LOVELYmanu</td>\n",
       "      <td>downloading some songs  i love lady GaGa.</td>\n",
       "    </tr>\n",
       "  </tbody>\n",
       "</table>\n",
       "</div>"
      ],
      "text/plain": [
       "  target         ids             user  \\\n",
       "0      p  1978186076   ceruleanbreeze   \n",
       "1      p  1994697891  enthusiasticjen   \n",
       "2      p  2191885992      LifeRemixed   \n",
       "3      p  1753662211        lovemandy   \n",
       "4      p  2177442789      _LOVELYmanu   \n",
       "\n",
       "                                                text  \n",
       "0  @nocturnalie Anyway, and now Abby and I share ...  \n",
       "1  @JoeGigantino Few times I'm trying to leave co...  \n",
       "2  @AngieGriffin Good Morning Angie  I'll be in t...  \n",
       "3  had a good day driving up mountains, visiting ...  \n",
       "4          downloading some songs  i love lady GaGa.  "
      ]
     },
     "execution_count": 5,
     "metadata": {},
     "output_type": "execute_result"
    }
   ],
   "source": [
    "train.head()"
   ]
  },
  {
   "cell_type": "code",
   "execution_count": 6,
   "metadata": {},
   "outputs": [
    {
     "data": {
      "text/html": [
       "<div>\n",
       "<style scoped>\n",
       "    .dataframe tbody tr th:only-of-type {\n",
       "        vertical-align: middle;\n",
       "    }\n",
       "\n",
       "    .dataframe tbody tr th {\n",
       "        vertical-align: top;\n",
       "    }\n",
       "\n",
       "    .dataframe thead th {\n",
       "        text-align: right;\n",
       "    }\n",
       "</style>\n",
       "<table border=\"1\" class=\"dataframe\">\n",
       "  <thead>\n",
       "    <tr style=\"text-align: right;\">\n",
       "      <th></th>\n",
       "      <th>ids</th>\n",
       "      <th>user</th>\n",
       "      <th>text</th>\n",
       "    </tr>\n",
       "  </thead>\n",
       "  <tbody>\n",
       "    <tr>\n",
       "      <th>0</th>\n",
       "      <td>1966755320</td>\n",
       "      <td>dbuie</td>\n",
       "      <td>my twitter is dead where did everybody go  @T_...</td>\n",
       "    </tr>\n",
       "    <tr>\n",
       "      <th>1</th>\n",
       "      <td>1676776141</td>\n",
       "      <td>MissTierra</td>\n",
       "      <td>@theasiangoddess OUCH! that really looks like ...</td>\n",
       "    </tr>\n",
       "    <tr>\n",
       "      <th>2</th>\n",
       "      <td>2052521105</td>\n",
       "      <td>CaliBelle</td>\n",
       "      <td>@3fingaz I cant read it frm ma phone</td>\n",
       "    </tr>\n",
       "    <tr>\n",
       "      <th>3</th>\n",
       "      <td>1956499203</td>\n",
       "      <td>extraorDANaire1</td>\n",
       "      <td>Never go clubbing with a couple...you'll only ...</td>\n",
       "    </tr>\n",
       "    <tr>\n",
       "      <th>4</th>\n",
       "      <td>1880896910</td>\n",
       "      <td>dinnie</td>\n",
       "      <td>Not to advertise. But www.funzsquare.com is my...</td>\n",
       "    </tr>\n",
       "  </tbody>\n",
       "</table>\n",
       "</div>"
      ],
      "text/plain": [
       "          ids             user  \\\n",
       "0  1966755320            dbuie   \n",
       "1  1676776141       MissTierra   \n",
       "2  2052521105        CaliBelle   \n",
       "3  1956499203  extraorDANaire1   \n",
       "4  1880896910           dinnie   \n",
       "\n",
       "                                                text  \n",
       "0  my twitter is dead where did everybody go  @T_...  \n",
       "1  @theasiangoddess OUCH! that really looks like ...  \n",
       "2              @3fingaz I cant read it frm ma phone   \n",
       "3  Never go clubbing with a couple...you'll only ...  \n",
       "4  Not to advertise. But www.funzsquare.com is my...  "
      ]
     },
     "execution_count": 6,
     "metadata": {},
     "output_type": "execute_result"
    }
   ],
   "source": [
    "test.head()"
   ]
  },
  {
   "cell_type": "code",
   "execution_count": 7,
   "metadata": {},
   "outputs": [
    {
     "data": {
      "text/html": [
       "<div>\n",
       "<style scoped>\n",
       "    .dataframe tbody tr th:only-of-type {\n",
       "        vertical-align: middle;\n",
       "    }\n",
       "\n",
       "    .dataframe tbody tr th {\n",
       "        vertical-align: top;\n",
       "    }\n",
       "\n",
       "    .dataframe thead th {\n",
       "        text-align: right;\n",
       "    }\n",
       "</style>\n",
       "<table border=\"1\" class=\"dataframe\">\n",
       "  <thead>\n",
       "    <tr style=\"text-align: right;\">\n",
       "      <th></th>\n",
       "      <th>text</th>\n",
       "    </tr>\n",
       "    <tr>\n",
       "      <th>user</th>\n",
       "      <th></th>\n",
       "    </tr>\n",
       "  </thead>\n",
       "  <tbody>\n",
       "    <tr>\n",
       "      <th>lost_dog</th>\n",
       "      <td>55</td>\n",
       "    </tr>\n",
       "    <tr>\n",
       "      <th>mcraddictal</th>\n",
       "      <td>33</td>\n",
       "    </tr>\n",
       "    <tr>\n",
       "      <th>webwoke</th>\n",
       "      <td>33</td>\n",
       "    </tr>\n",
       "    <tr>\n",
       "      <th>tweetpet</th>\n",
       "      <td>33</td>\n",
       "    </tr>\n",
       "    <tr>\n",
       "      <th>SallytheShizzle</th>\n",
       "      <td>29</td>\n",
       "    </tr>\n",
       "    <tr>\n",
       "      <th>enamoredsoul</th>\n",
       "      <td>28</td>\n",
       "    </tr>\n",
       "    <tr>\n",
       "      <th>DarkPiano</th>\n",
       "      <td>27</td>\n",
       "    </tr>\n",
       "    <tr>\n",
       "      <th>VioletsCRUK</th>\n",
       "      <td>27</td>\n",
       "    </tr>\n",
       "    <tr>\n",
       "      <th>what_bugs_u</th>\n",
       "      <td>26</td>\n",
       "    </tr>\n",
       "    <tr>\n",
       "      <th>Jayme1988</th>\n",
       "      <td>25</td>\n",
       "    </tr>\n",
       "    <tr>\n",
       "      <th>michxxblc</th>\n",
       "      <td>24</td>\n",
       "    </tr>\n",
       "    <tr>\n",
       "      <th>jaybranch</th>\n",
       "      <td>23</td>\n",
       "    </tr>\n",
       "    <tr>\n",
       "      <th>Dogbook</th>\n",
       "      <td>23</td>\n",
       "    </tr>\n",
       "    <tr>\n",
       "      <th>StDAY</th>\n",
       "      <td>23</td>\n",
       "    </tr>\n",
       "    <tr>\n",
       "      <th>_magic8ball</th>\n",
       "      <td>23</td>\n",
       "    </tr>\n",
       "  </tbody>\n",
       "</table>\n",
       "</div>"
      ],
      "text/plain": [
       "                 text\n",
       "user                 \n",
       "lost_dog           55\n",
       "mcraddictal        33\n",
       "webwoke            33\n",
       "tweetpet           33\n",
       "SallytheShizzle    29\n",
       "enamoredsoul       28\n",
       "DarkPiano          27\n",
       "VioletsCRUK        27\n",
       "what_bugs_u        26\n",
       "Jayme1988          25\n",
       "michxxblc          24\n",
       "jaybranch          23\n",
       "Dogbook            23\n",
       "StDAY              23\n",
       "_magic8ball        23"
      ]
     },
     "execution_count": 7,
     "metadata": {},
     "output_type": "execute_result"
    }
   ],
   "source": [
    "# nb of tweet per user\n",
    "train[['text','user']].groupby(['user']).count().sort_values('text',ascending = False).head(15)"
   ]
  },
  {
   "cell_type": "code",
   "execution_count": 8,
   "metadata": {},
   "outputs": [
    {
     "data": {
      "text/plain": [
       "text    123402\n",
       "dtype: int64"
      ]
     },
     "execution_count": 8,
     "metadata": {},
     "output_type": "execute_result"
    }
   ],
   "source": [
    "train[['text','user']].groupby(['user']).count().sort_values('text',ascending = False).count()"
   ]
  },
  {
   "cell_type": "code",
   "execution_count": 9,
   "metadata": {},
   "outputs": [
    {
     "data": {
      "text/plain": [
       "159985"
      ]
     },
     "execution_count": 9,
     "metadata": {},
     "output_type": "execute_result"
    }
   ],
   "source": [
    "train.shape[0]"
   ]
  },
  {
   "cell_type": "code",
   "execution_count": 10,
   "metadata": {},
   "outputs": [
    {
     "data": {
      "text/plain": [
       "array(['p', 'n'], dtype=object)"
      ]
     },
     "execution_count": 10,
     "metadata": {},
     "output_type": "execute_result"
    }
   ],
   "source": [
    "train['target'].unique()"
   ]
  },
  {
   "cell_type": "code",
   "execution_count": 11,
   "metadata": {},
   "outputs": [
    {
     "data": {
      "text/plain": [
       "<matplotlib.axes._subplots.AxesSubplot at 0x24e82a26f60>"
      ]
     },
     "execution_count": 11,
     "metadata": {},
     "output_type": "execute_result"
    },
    {
     "data": {
      "image/png": "[encoded data removed]",
      "text/plain": [
       "<Figure size 432x288 with 1 Axes>"
      ]
     },
     "metadata": {
      "needs_background": "light"
     },
     "output_type": "display_data"
    }
   ],
   "source": [
    "targetMAP = {'p':1, 'n':0}\n",
    "train['target_bool'] = train['target'].map(targetMAP)\n",
    "train = train.drop('target',1)\n",
    "train['target_bool'].hist()"
   ]
  },
  {
   "cell_type": "code",
   "execution_count": 12,
   "metadata": {},
   "outputs": [
    {
     "data": {
      "text/html": [
       "<div>\n",
       "<style scoped>\n",
       "    .dataframe tbody tr th:only-of-type {\n",
       "        vertical-align: middle;\n",
       "    }\n",
       "\n",
       "    .dataframe tbody tr th {\n",
       "        vertical-align: top;\n",
       "    }\n",
       "\n",
       "    .dataframe thead th {\n",
       "        text-align: right;\n",
       "    }\n",
       "</style>\n",
       "<table border=\"1\" class=\"dataframe\">\n",
       "  <thead>\n",
       "    <tr style=\"text-align: right;\">\n",
       "      <th></th>\n",
       "      <th>ids</th>\n",
       "      <th>user</th>\n",
       "      <th>text</th>\n",
       "      <th>target_bool</th>\n",
       "    </tr>\n",
       "  </thead>\n",
       "  <tbody>\n",
       "    <tr>\n",
       "      <th>0</th>\n",
       "      <td>1978186076</td>\n",
       "      <td>ceruleanbreeze</td>\n",
       "      <td>@nocturnalie Anyway, and now Abby and I share ...</td>\n",
       "      <td>1</td>\n",
       "    </tr>\n",
       "    <tr>\n",
       "      <th>1</th>\n",
       "      <td>1994697891</td>\n",
       "      <td>enthusiasticjen</td>\n",
       "      <td>@JoeGigantino Few times I'm trying to leave co...</td>\n",
       "      <td>1</td>\n",
       "    </tr>\n",
       "    <tr>\n",
       "      <th>2</th>\n",
       "      <td>2191885992</td>\n",
       "      <td>LifeRemixed</td>\n",
       "      <td>@AngieGriffin Good Morning Angie  I'll be in t...</td>\n",
       "      <td>1</td>\n",
       "    </tr>\n",
       "    <tr>\n",
       "      <th>3</th>\n",
       "      <td>1753662211</td>\n",
       "      <td>lovemandy</td>\n",
       "      <td>had a good day driving up mountains, visiting ...</td>\n",
       "      <td>1</td>\n",
       "    </tr>\n",
       "    <tr>\n",
       "      <th>4</th>\n",
       "      <td>2177442789</td>\n",
       "      <td>_LOVELYmanu</td>\n",
       "      <td>downloading some songs  i love lady GaGa.</td>\n",
       "      <td>1</td>\n",
       "    </tr>\n",
       "  </tbody>\n",
       "</table>\n",
       "</div>"
      ],
      "text/plain": [
       "          ids             user  \\\n",
       "0  1978186076   ceruleanbreeze   \n",
       "1  1994697891  enthusiasticjen   \n",
       "2  2191885992      LifeRemixed   \n",
       "3  1753662211        lovemandy   \n",
       "4  2177442789      _LOVELYmanu   \n",
       "\n",
       "                                                text  target_bool  \n",
       "0  @nocturnalie Anyway, and now Abby and I share ...            1  \n",
       "1  @JoeGigantino Few times I'm trying to leave co...            1  \n",
       "2  @AngieGriffin Good Morning Angie  I'll be in t...            1  \n",
       "3  had a good day driving up mountains, visiting ...            1  \n",
       "4          downloading some songs  i love lady GaGa.            1  "
      ]
     },
     "execution_count": 12,
     "metadata": {},
     "output_type": "execute_result"
    }
   ],
   "source": [
    "train.head()"
   ]
  },
  {
   "cell_type": "markdown",
   "metadata": {},
   "source": [
    "# Pre processing"
   ]
  },
  {
   "cell_type": "markdown",
   "metadata": {},
   "source": [
    "## Text cleaning"
   ]
  },
  {
   "cell_type": "markdown",
   "metadata": {},
   "source": [
    "### Examples"
   ]
  },
  {
   "cell_type": "markdown",
   "metadata": {},
   "source": [
    "I have to clean the text, get rid of useless words and tipos\n",
    "\n",
    "https://www.pythonforbeginners.com/regex/regular-expressions-in-python\n",
    "\n",
    "https://python-django.dev/page-expressions-regulieres-regular-python"
   ]
  },
  {
   "cell_type": "code",
   "execution_count": 13,
   "metadata": {},
   "outputs": [],
   "source": [
    "# mentions : if a specific mention contains only positive tweets the feature might be added in the model...\n",
    "text = re.sub(r'@\\w+', '', train['text'][0])"
   ]
  },
  {
   "cell_type": "code",
   "execution_count": 14,
   "metadata": {},
   "outputs": [
    {
     "name": "stdout",
     "output_type": "stream",
     "text": [
      "@nocturnalie Anyway, and now Abby and I share all our crops. We have a very healthy Master/Minion relationship \n",
      " Anyway, and now Abby and I share all our crops. We have a very healthy Master/Minion relationship \n"
     ]
    }
   ],
   "source": [
    "print(train['text'][0])\n",
    "print(text)"
   ]
  },
  {
   "cell_type": "code",
   "execution_count": 15,
   "metadata": {},
   "outputs": [],
   "source": [
    "ex2 = 'hello visit the website: https://youyou.fr'\n",
    "\n",
    "# urls : do not bring predictive power to the model\n",
    "text2 = re.sub(r'http.?://[^/s]+[/s]?', '', ex2)"
   ]
  },
  {
   "cell_type": "code",
   "execution_count": 16,
   "metadata": {},
   "outputs": [
    {
     "name": "stdout",
     "output_type": "stream",
     "text": [
      "hello visit the website: https://youyou.fr\n",
      "hello visit the website: \n"
     ]
    }
   ],
   "source": [
    "print(ex2)\n",
    "print(text2)"
   ]
  },
  {
   "cell_type": "code",
   "execution_count": 17,
   "metadata": {},
   "outputs": [],
   "source": [
    "ex3 = 'i like1 2 3 #wow'\n",
    "\n",
    "## let's remove symbols and digits as well\n",
    "text3 = re.sub('[^a-zA-Z\\s]', '', ex3)"
   ]
  },
  {
   "cell_type": "code",
   "execution_count": 18,
   "metadata": {},
   "outputs": [
    {
     "name": "stdout",
     "output_type": "stream",
     "text": [
      "i like1 2 3 #wow\n",
      "i like   wow\n"
     ]
    }
   ],
   "source": [
    "print(ex3)\n",
    "print(text3)"
   ]
  },
  {
   "cell_type": "code",
   "execution_count": 19,
   "metadata": {},
   "outputs": [],
   "source": [
    "ex4 = '   wow il  fait beau   '\n",
    "\n",
    "# remove extra spaces\n",
    "text4 = re.sub(\"\\s+\", '', ex4)\n",
    "# remove leading spaces\n",
    "text5 = ex4.lstrip()\n",
    "# remove trailing spaces\n",
    "text6 = ex4.rstrip()\n",
    "\n",
    "text7 = text4.lstrip().rstrip()"
   ]
  },
  {
   "cell_type": "code",
   "execution_count": 20,
   "metadata": {},
   "outputs": [
    {
     "name": "stdout",
     "output_type": "stream",
     "text": [
      "   wow il  fait beau   \n",
      "remove extra spaces   : [wowilfaitbeau]\n",
      "remove leading spaces : [wow il  fait beau   ]\n",
      "remove trailing spaces: [   wow il  fait beau]\n",
      "remove all spaces     : [wowilfaitbeau]\n"
     ]
    }
   ],
   "source": [
    "print(ex4)\n",
    "print(f'remove extra spaces   : [{text4}]')\n",
    "print(f'remove leading spaces : [{text5}]')\n",
    "print(f'remove trailing spaces: [{text6}]')\n",
    "print(f'remove all spaces     : [{text7}]')"
   ]
  },
  {
   "cell_type": "code",
   "execution_count": 21,
   "metadata": {},
   "outputs": [],
   "source": [
    "ex5 = 'EdLo L Ik kO LLL'\n",
    "\n",
    "# only lower char\n",
    "text8 = ex5.lower()"
   ]
  },
  {
   "cell_type": "code",
   "execution_count": 22,
   "metadata": {},
   "outputs": [
    {
     "name": "stdout",
     "output_type": "stream",
     "text": [
      "EdLo L Ik kO LLL\n",
      "edlo l ik ko lll\n"
     ]
    }
   ],
   "source": [
    "print(ex5)\n",
    "print(text8)"
   ]
  },
  {
   "cell_type": "markdown",
   "metadata": {},
   "source": [
    "Also, using a spell checker to correct mistakes\n",
    "\n",
    "https://norvig.com/spell-correct.html?source=post_page---------------------------"
   ]
  },
  {
   "cell_type": "markdown",
   "metadata": {},
   "source": [
    "## Defining a Custom Transformer"
   ]
  },
  {
   "cell_type": "code",
   "execution_count": 23,
   "metadata": {},
   "outputs": [],
   "source": [
    "# Custom transformer using spaCy\n",
    "class predictors(TransformerMixin):\n",
    "    def transform(self, X, **transform_params):\n",
    "        # Cleaning Text\n",
    "        return [clean_text(text) for text in X]\n",
    "\n",
    "    def fit(self, X, y=None, **fit_params):\n",
    "        return self\n",
    "\n",
    "    def get_params(self, deep=True):\n",
    "        return {}\n",
    "\n",
    "# Basic function to clean the text\n",
    "def clean_text(text):\n",
    "    text = re.sub(r'@\\w+', '', text)\n",
    "    text = re.sub(r'http.?://[^/s]+[/s]?', '', text)\n",
    "    text = re.sub('[^a-zA-Z\\s]', '', text)\n",
    "    return text.strip().lower()"
   ]
  },
  {
   "cell_type": "code",
   "execution_count": 24,
   "metadata": {},
   "outputs": [],
   "source": [
    "# def remove_mentions(dataset, feature):\n",
    "#     nb_obs = dataset.shape[0]\n",
    "#     new_text = [re.sub(r'@\\w+', '', dataset.loc[i, feature]) for i in range(nb_obs)]\n",
    "#     dataset[feature] = new_text\n",
    "#     return(dataset)\n",
    "\n",
    "# def remove_urls(dataset, feature):\n",
    "#     nb_obs = dataset.shape[0]\n",
    "#     new_text = [re.sub(r'http.?://[^/s]+[/s]?', '', dataset.loc[i, feature]) for i in range(nb_obs)]\n",
    "#     dataset[feature] = new_text\n",
    "#     return(dataset)\n",
    "\n",
    "# def remove_symbols(dataset, feature):\n",
    "#     nb_obs = dataset.shape[0]\n",
    "#     new_text = [re.sub('[^a-zA-Z\\s]', '', dataset.loc[i, feature]) for i in range(nb_obs)]\n",
    "#     dataset[feature] = new_text\n",
    "#     return(dataset)\n",
    "\n",
    "# def to_lower(dataset, feature):\n",
    "#     nb_obs = dataset.shape[0]\n",
    "#     new_text = [dataset.loc[i, feature].lower() for i in range(nb_obs)]\n",
    "#     dataset[feature] = new_text\n",
    "#     return(dataset)\n",
    "\n",
    "# def clean_text(dataset, feature):\n",
    "#     dataset = remove_mentions(dataset, feature)\n",
    "#     dataset = remove_urls(dataset, feature)\n",
    "#     dataset = remove_symbols(dataset, feature)\n",
    "#     dataset = to_lower(dataset, feature)\n",
    "#     return(dataset)"
   ]
  },
  {
   "cell_type": "code",
   "execution_count": 25,
   "metadata": {},
   "outputs": [],
   "source": [
    "# clean_text(train, 'text')\n",
    "\n",
    "# train.head()"
   ]
  },
  {
   "cell_type": "markdown",
   "metadata": {},
   "source": [
    "# Tokenisation"
   ]
  },
  {
   "cell_type": "code",
   "execution_count": 26,
   "metadata": {},
   "outputs": [],
   "source": [
    "import string\n",
    "from spacy.lang.en.stop_words import STOP_WORDS\n",
    "from spacy.lang.en import English"
   ]
  },
  {
   "cell_type": "code",
   "execution_count": 27,
   "metadata": {},
   "outputs": [
    {
     "name": "stdout",
     "output_type": "stream",
     "text": [
      "!\"#$%&'()*+,-./:;<=>?@[\\]^_`{|}~ \n",
      "\n",
      "{'if', 'have', 'which', 'five', 'been', 'those', 'somehow', 'thru', 'cannot', 'yours', 'that', 'she', 'never', 'besides', 'forty', '’ll', 'made', 'against', 'where', 'out', 'some', 'every', 'three', 'in', 'when', 'whose', 'us', 'hundred', 'wherever', 'six', 'everywhere', 'as', 'many', 'everything', 'do', '’m', 'beforehand', 'from', 'bottom', 'anyone', 'our', 'please', 'this', 'now', \"'ve\", 'he', 'due', 'such', 'perhaps', 'part', 'whom', 'may', 'less', 'back', 'everyone', 'neither', 'themselves', 'twenty', '‘re', 'whether', 'though', 'its', 'why', 'but', 'their', 'hereupon', 'whence', 'not', 'once', 'sometimes', 'should', 'what', 'between', 'these', 'often', '‘ve', 'done', 'well', 'along', 'upon', 'fifty', 'latter', 'it', 'doing', 'empty', 'two', 'above', 'someone', 'here', 'beside', 'nor', 'down', 'so', 'seeming', 'myself', 'each', 'them', 'must', 'hers', 'by', 'your', 'else', \"'ll\", \"'re\", \"'s\", 'already', 'call', 'towards', 'still', 'seems', 'twelve', 'noone', 'latterly', 'much', 'former', 'go', 'others', 'meanwhile', 'own', 'were', '‘ll', 'hereafter', 'eight', 'via', 'anyhow', '‘m', 'her', 'of', 'or', 'became', 'nevertheless', 'amongst', 'becoming', 'be', 'namely', 'somewhere', 'unless', 'more', 'per', 'until', '’re', 'any', 'only', 'almost', 'several', 'most', 'thereafter', 'full', 'top', 'whereas', 'sometime', 'say', 'ca', 'ours', 'serious', 'yourself', 'all', 'show', 'whatever', 'none', 'first', 'with', 'his', '‘d', 'can', 'one', 'give', 'while', 'whereupon', 'on', 'together', 'last', 'does', 'a', 'might', 'becomes', 'few', 'me', 'enough', 'whereby', 'very', 'moreover', 'really', 'get', 'up', 'front', 'toward', 'anyway', 'would', 'even', 'mostly', 'always', 'rather', 'make', 'himself', 'than', 'who', \"'m\", 'both', 'thereupon', 'during', 'become', 'no', 'being', '‘s', 'across', 'however', 'thus', 'whither', 'next', 'itself', 'therefore', 'through', 'something', 'whole', 'seem', 'n’t', 'thereby', 'too', 'whenever', 'throughout', 'nine', 'has', 'four', 'formerly', 'also', 'quite', 'within', 'behind', 'keep', 'without', 'nothing', 'move', 'name', 'just', 'same', 'third', 'anything', 'sixty', 'off', 'using', 'herself', 'the', 'ourselves', 'various', 'had', 'to', 'yourselves', 'therein', 'anywhere', 'indeed', 'seemed', 'over', 'we', 'and', 'herein', 'although', 'my', 'alone', 'elsewhere', 'another', 'except', \"'d\", 'could', 'amount', 'thence', 'hereby', \"n't\", 'they', 'because', 'least', 'again', 'ten', 'around', 'nowhere', 'him', 'otherwise', 'beyond', 'into', 'an', 'under', 'further', 'you', 'either', 'was', 'how', 'since', 'there', 'at', 'before', 'hence', 'i', '’ve', 'ever', 'whoever', 'put', 'after', 'see', 'whereafter', 'n‘t', 'did', 'afterwards', 'are', 're', 'nobody', 'am', 'then', 'for', 'used', 'side', 'onto', 'yet', '’s', 'about', 'other', 'wherein', 'among', 'fifteen', 'will', '’d', 'mine', 'below', 'is', 'take', 'eleven', 'regarding'} \n",
      "\n"
     ]
    }
   ],
   "source": [
    "# run in shell : python -m spacy download en\n",
    "\n",
    "# Create our list of punctuation marks\n",
    "punctuations = string.punctuation\n",
    "\n",
    "print(punctuations, '\\n')\n",
    "\n",
    "# Create a list of stopwords\n",
    "# nlp = spacy.load('en')\n",
    "# print(nlp, '\\n')\n",
    "\n",
    "stop_words = spacy.lang.en.stop_words.STOP_WORDS\n",
    "print(stop_words, '\\n')\n",
    "\n",
    "# Load English tokenizer, tagger, parser, NER and word vectors\n",
    "parser = English()\n",
    "\n",
    "# Create a tokenizer function\n",
    "def spacy_tokenizer(sentence):\n",
    "    # Create a token object, used to create documents with linguistic annotations\n",
    "    mytokens = parser(sentence)\n",
    "    \n",
    "    # Lemmatizing each token\n",
    "    mytokens = [ word.lemma_.lower().strip() if word.lemma_ != '-PRON-' else word.lower_ for word in mytokens]\n",
    "    \n",
    "    # Removing stopwords and punctuations\n",
    "    mytokens = [ word for word in mytokens if word not in stop_words and word not in punctuations]\n",
    "    \n",
    "    return(mytokens)"
   ]
  },
  {
   "cell_type": "code",
   "execution_count": 28,
   "metadata": {},
   "outputs": [
    {
     "data": {
      "text/plain": [
       "['@joegigantino',\n",
       " 'time',\n",
       " 'try',\n",
       " 'leave',\n",
       " 'comment',\n",
       " 'blog',\n",
       " 'message',\n",
       " 'quot;operation',\n",
       " 'aborted&quot',\n",
       " 'clue']"
      ]
     },
     "execution_count": 28,
     "metadata": {},
     "output_type": "execute_result"
    }
   ],
   "source": [
    "spacy_tokenizer(train.loc[1,'text'])"
   ]
  },
  {
   "cell_type": "markdown",
   "metadata": {},
   "source": [
    "## Vectorization Feature Engineering (TF-IDF)"
   ]
  },
  {
   "cell_type": "markdown",
   "metadata": {},
   "source": [
    "Classifying text in positive and negative labels is called sentiment analysis. So we need a way to represent our text numerically.\n",
    "\n",
    "One tool we can use for doing this is called Bag of Words. BoW converts text into the matrix of occurrence of words within a given document. It focuses on whether given words occurred or not in the document, and it generates a matrix that we might see referred to as a BoW matrix or a document term matrix."
   ]
  },
  {
   "cell_type": "code",
   "execution_count": 29,
   "metadata": {},
   "outputs": [
    {
     "name": "stdout",
     "output_type": "stream",
     "text": [
      "CountVectorizer(analyzer='word', binary=False, decode_error='strict',\n",
      "        dtype=<class 'numpy.int64'>, encoding='utf-8', input='content',\n",
      "        lowercase=True, max_df=1.0, max_features=None, min_df=1,\n",
      "        ngram_range=(1, 5), preprocessor=None, stop_words=None,\n",
      "        strip_accents=None, token_pattern='(?u)\\\\b\\\\w\\\\w+\\\\b',\n",
      "        tokenizer=<function spacy_tokenizer at 0x0000024E84E18C80>,\n",
      "        vocabulary=None)\n"
     ]
    }
   ],
   "source": [
    "# ngram_range is lower and upper range of the context\n",
    "bow_vector = CountVectorizer(tokenizer = spacy_tokenizer, ngram_range=(1,5))\n",
    "print(bow_vector)"
   ]
  },
  {
   "cell_type": "markdown",
   "metadata": {},
   "source": [
    "$$Term Frequency-Inverse Document Frequency$$\n",
    "\n",
    "\n",
    "$$ idf(W) = \\frac{nb\\_documents}{nb\\_documents\\_containing\\_word\\_W} $$"
   ]
  },
  {
   "cell_type": "markdown",
   "metadata": {},
   "source": [
    "a way of normalizing our Bag of Words(BoW) by looking at each word’s frequency in comparison to the document frequency. In other words, it’s a way of representing how important a particular term is in the context of a given document, based on how many times the term appears and how many other documents that same term appears in. The higher the TF-IDF, the more important that term is to that document."
   ]
  },
  {
   "cell_type": "code",
   "execution_count": 30,
   "metadata": {},
   "outputs": [
    {
     "name": "stdout",
     "output_type": "stream",
     "text": [
      "TfidfVectorizer(analyzer='word', binary=False, decode_error='strict',\n",
      "        dtype=<class 'numpy.float64'>, encoding='utf-8', input='content',\n",
      "        lowercase=True, max_df=1.0, max_features=None, min_df=1,\n",
      "        ngram_range=(1, 1), norm='l2', preprocessor=None, smooth_idf=True,\n",
      "        stop_words=None, strip_accents=None, sublinear_tf=False,\n",
      "        token_pattern='(?u)\\\\b\\\\w\\\\w+\\\\b',\n",
      "        tokenizer=<function spacy_tokenizer at 0x0000024E84E18C80>,\n",
      "        use_idf=True, vocabulary=None)\n"
     ]
    }
   ],
   "source": [
    "tfidf_vector = TfidfVectorizer(tokenizer = spacy_tokenizer)\n",
    "print(tfidf_vector)"
   ]
  },
  {
   "cell_type": "markdown",
   "metadata": {},
   "source": [
    "## Validation"
   ]
  },
  {
   "cell_type": "code",
   "execution_count": 31,
   "metadata": {},
   "outputs": [],
   "source": [
    "from sklearn.model_selection import train_test_split\n",
    "X_train_v, X_test_v, y_train_v, y_test_v = train_test_split(train['text'], train['target_bool'])"
   ]
  },
  {
   "cell_type": "code",
   "execution_count": 33,
   "metadata": {},
   "outputs": [],
   "source": [
    "bow_vector.fit(train['text'])\n",
    "\n",
    "# transform the training and validation data using count vectorizer object\n",
    "X_train_v_count =  bow_vector.transform(X_train_v)\n",
    "X_test_v_count =  bow_vector.transform(X_test_v)"
   ]
  },
  {
   "cell_type": "code",
   "execution_count": null,
   "metadata": {},
   "outputs": [],
   "source": [
    "# convert text to sequence of tokens and pad them to ensure equal length vectors \n",
    "train_seq_x = sequence.pad_sequences(token.texts_to_sequences(train_x), maxlen=70)\n",
    "valid_seq_x = sequence.pad_sequences(token.texts_to_sequences(valid_x), maxlen=70)"
   ]
  },
  {
   "cell_type": "markdown",
   "metadata": {},
   "source": [
    "## Splitting The Data into Training and Test Sets"
   ]
  },
  {
   "cell_type": "code",
   "execution_count": 31,
   "metadata": {},
   "outputs": [],
   "source": [
    "# X_train = train['text']\n",
    "# y_train = train['target_bool']\n",
    "\n",
    "# X_test = test['text']"
   ]
  },
  {
   "cell_type": "markdown",
   "metadata": {},
   "source": [
    "## Creating a Pipeline and Generating the Model"
   ]
  },
  {
   "cell_type": "code",
   "execution_count": 37,
   "metadata": {},
   "outputs": [],
   "source": [
    "def train_model(classifier, feature_vector_train, label, feature_vector_valid, is_neural_net=False):\n",
    "    \n",
    "    # fit the training dataset on the classifier\n",
    "    classifier.fit(feature_vector_train, label)\n",
    "    \n",
    "    # predict the labels on validation dataset\n",
    "    predictions = classifier.predict(feature_vector_valid)\n",
    "    \n",
    "    if is_neural_net:\n",
    "        predictions = predictions.argmax(axis=-1)\n",
    "    \n",
    "    return(metrics.accuracy_score(predictions, y_test_v),metrics.precision_score(predictions, y_test_v),metrics.recall_score(predictions, y_test_v))"
   ]
  },
  {
   "cell_type": "markdown",
   "metadata": {},
   "source": [
    "### Naive bayes"
   ]
  },
  {
   "cell_type": "code",
   "execution_count": 35,
   "metadata": {},
   "outputs": [],
   "source": [
    "tfidf_vector.fit(train['text'])\n",
    "xtrain_tfidf =  tfidf_vector.transform(X_train_v)\n",
    "xvalid_tfidf =  tfidf_vector.transform(X_test_v)"
   ]
  },
  {
   "cell_type": "code",
   "execution_count": 40,
   "metadata": {},
   "outputs": [
    {
     "name": "stdout",
     "output_type": "stream",
     "text": [
      "Accuracy Naive Bayes: 0.7338300372527939\n",
      "Precision Naive Bayes: 0.6842816393934844\n",
      "Recall Naive Bayes: 0.7592027094553329\n"
     ]
    }
   ],
   "source": [
    "# Naive Bayes on Ngram Level TF IDF Vectors\n",
    "results_nb = train_model(naive_bayes.MultinomialNB(), xtrain_tfidf, y_train_v, xvalid_tfidf)\n",
    "print(f'Accuracy Naive Bayes: {results_nb[0]}\\nPrecision Naive Bayes: {results_nb[1]}\\nRecall Naive Bayes: {results_nb[2]}\\n')"
   ]
  },
  {
   "cell_type": "markdown",
   "metadata": {},
   "source": [
    "### Logistic Reg"
   ]
  },
  {
   "cell_type": "code",
   "execution_count": 41,
   "metadata": {
    "scrolled": true
   },
   "outputs": [
    {
     "name": "stderr",
     "output_type": "stream",
     "text": [
      "C:\\Anaconda3\\lib\\site-packages\\sklearn\\linear_model\\logistic.py:433: FutureWarning: Default solver will be changed to 'lbfgs' in 0.22. Specify a solver to silence this warning.\n",
      "  FutureWarning)\n"
     ]
    },
    {
     "data": {
      "text/plain": [
       "Pipeline(memory=None,\n",
       "     steps=[('cleaner', <__main__.predictors object at 0x0000024E9CBC0FD0>), ('vectorizer', CountVectorizer(analyzer='word', binary=False, decode_error='strict',\n",
       "        dtype=<class 'numpy.int64'>, encoding='utf-8', input='content',\n",
       "        lowercase=True, max_df=1.0, max_features=None, min_df=1,\n",
       "      ...penalty='l2', random_state=None, solver='warn',\n",
       "          tol=0.0001, verbose=0, warm_start=False))])"
      ]
     },
     "execution_count": 41,
     "metadata": {},
     "output_type": "execute_result"
    }
   ],
   "source": [
    "from sklearn.linear_model import LogisticRegression\n",
    "classifier = LogisticRegression()\n",
    "\n",
    "# Create a pipeline using BoW\n",
    "pipe = Pipeline([('cleaner', predictors()),\n",
    "                 ('vectorizer', bow_vector),\n",
    "                 ('classifier', classifier)])\n",
    "\n",
    "# Model generation\n",
    "pipe.fit(X_train_v, y_train_v)"
   ]
  },
  {
   "cell_type": "markdown",
   "metadata": {},
   "source": [
    "#### Evaluating the Model"
   ]
  },
  {
   "cell_type": "code",
   "execution_count": 44,
   "metadata": {},
   "outputs": [],
   "source": [
    "from sklearn import metrics\n",
    "# Predicting with a test dataset\n",
    "predicted = pipe.predict(X_test_v)"
   ]
  },
  {
   "cell_type": "code",
   "execution_count": null,
   "metadata": {},
   "outputs": [],
   "source": [
    "# # Model Accuracy on train\n",
    "# print(\"Logistic Regression Accuracy LR:\",metrics.accuracy_score(y_test_v, predicted))\n",
    "# print(\"Logistic Regression Precision LR:\",metrics.precision_score(y_test_v, predicted))\n",
    "# print(\"Logistic Regression Recall LR:\",metrics.recall_score(y_test_v, predicted))"
   ]
  },
  {
   "cell_type": "code",
   "execution_count": 45,
   "metadata": {},
   "outputs": [
    {
     "name": "stdout",
     "output_type": "stream",
     "text": [
      "Accuracy Logistic Regression: 0.7519813986048953\n",
      "Precision Logistic Regression: 0.7388559221457394\n",
      "Recall Logistic Regression: 0.7788620327278186\n",
      "\n"
     ]
    }
   ],
   "source": [
    "# LR on Ngram Level TF IDF Vectors\n",
    "print(f\"Accuracy Logistic Regression: {metrics.accuracy_score(y_test_v, predicted)}\\nPrecision Logistic Regression: {metrics.precision_score(y_test_v, predicted)}\\nRecall Logistic Regression: {metrics.recall_score(y_test_v, predicted)}\\n\")"
   ]
  },
  {
   "cell_type": "markdown",
   "metadata": {},
   "source": [
    "### RF"
   ]
  },
  {
   "cell_type": "code",
   "execution_count": null,
   "metadata": {},
   "outputs": [
    {
     "name": "stderr",
     "output_type": "stream",
     "text": [
      "C:\\Anaconda3\\lib\\site-packages\\sklearn\\ensemble\\forest.py:246: FutureWarning: The default value of n_estimators will change from 10 in version 0.20 to 100 in 0.22.\n",
      "  \"10 in version 0.20 to 100 in 0.22.\", FutureWarning)\n"
     ]
    }
   ],
   "source": [
    "# RF on Count Vectors\n",
    "results_rf = train_model(ensemble.RandomForestClassifier(), X_train_v_count, y_train_v, X_test_v_count)\n",
    "print(f\"Accuracy RF: {results_rf[0]}\\nPrecision RF: {results_rf[1]}\\nRecall RF: {results_rf[2]}\\n\")"
   ]
  },
  {
   "cell_type": "markdown",
   "metadata": {},
   "source": [
    "### XGB"
   ]
  },
  {
   "cell_type": "code",
   "execution_count": 101,
   "metadata": {},
   "outputs": [],
   "source": [
    "import xgboost as xgb"
   ]
  },
  {
   "cell_type": "code",
   "execution_count": 38,
   "metadata": {},
   "outputs": [
    {
     "ename": "SyntaxError",
     "evalue": "Missing parentheses in call to 'print'. Did you mean print(\"Xgb, Count Vectors: \", accuracy)? (<ipython-input-38-6bc163ac2454>, line 3)",
     "output_type": "error",
     "traceback": [
      "\u001b[1;36m  File \u001b[1;32m\"<ipython-input-38-6bc163ac2454>\"\u001b[1;36m, line \u001b[1;32m3\u001b[0m\n\u001b[1;33m    print \"Xgb, Count Vectors: \", accuracy\u001b[0m\n\u001b[1;37m                               ^\u001b[0m\n\u001b[1;31mSyntaxError\u001b[0m\u001b[1;31m:\u001b[0m Missing parentheses in call to 'print'. Did you mean print(\"Xgb, Count Vectors: \", accuracy)?\n"
     ]
    }
   ],
   "source": [
    "# Extereme Gradient Boosting on Count Vectors\n",
    "results_xgb = train_model(xgb.XGBClassifier(), X_train_v_count.tocsc(), y_train_v, X_test_v_count.tocsc())\n",
    "print(f\"Accuracy XGB: {results_xgb[0]}\\nPrecision XGB: {results_xgb[1]}\\nRecall XGB: {results_xgb[2]}\\n\")"
   ]
  },
  {
   "cell_type": "markdown",
   "metadata": {},
   "source": [
    "### NN"
   ]
  },
  {
   "cell_type": "code",
   "execution_count": null,
   "metadata": {},
   "outputs": [],
   "source": [
    "def create_model_architecture(input_size):\n",
    "    # create input layer \n",
    "    input_layer = layers.Input((input_size, ), sparse=True)\n",
    "    \n",
    "    # create hidden layer\n",
    "    hidden_layer = layers.Dense(100, activation=\"relu\")(input_layer)\n",
    "    \n",
    "    # create output layer\n",
    "    output_layer = layers.Dense(1, activation=\"sigmoid\")(hidden_layer)\n",
    "\n",
    "    classifier = models.Model(inputs = input_layer, outputs = output_layer)\n",
    "    classifier.compile(optimizer = optimizers.Adam(), loss = 'binary_crossentropy')\n",
    "    return(classifier)\n",
    "\n",
    "classifier = create_model_architecture(xtrain_tfidf.shape[1])\n",
    "results_nn = train_model(classifier, xtrain_tfidf, y_train_v, xvalid_tfidf, is_neural_net=True)\n",
    "print(f\"Accuracy NN: {results_nn[0]}\\nPrecision NN: {results_nn[1]}\\nRecall NN: {results_n[2]}\\n\")"
   ]
  },
  {
   "cell_type": "markdown",
   "metadata": {},
   "source": [
    "### DCNN"
   ]
  },
  {
   "cell_type": "code",
   "execution_count": null,
   "metadata": {},
   "outputs": [],
   "source": [
    "def create_cnn():\n",
    "    # Add an Input Layer\n",
    "    input_layer = layers.Input((70, ))\n",
    "\n",
    "    # Add the word embedding Layer\n",
    "    embedding_layer = layers.Embedding(len(word_index) + 1, 300, weights=[embedding_matrix], trainable=False)(input_layer)\n",
    "    embedding_layer = layers.SpatialDropout1D(0.3)(embedding_layer)\n",
    "\n",
    "    # Add the convolutional Layer\n",
    "    conv_layer = layers.Convolution1D(100, 3, activation=\"relu\")(embedding_layer)\n",
    "\n",
    "    # Add the pooling Layer\n",
    "    pooling_layer = layers.GlobalMaxPool1D()(conv_layer)\n",
    "\n",
    "    # Add the output Layers\n",
    "    output_layer1 = layers.Dense(50, activation=\"relu\")(pooling_layer)\n",
    "    output_layer1 = layers.Dropout(0.25)(output_layer1)\n",
    "    output_layer2 = layers.Dense(1, activation=\"sigmoid\")(output_layer1)\n",
    "\n",
    "    # Compile the model\n",
    "    model = models.Model(inputs=input_layer, outputs=output_layer2)\n",
    "    model.compile(optimizer=optimizers.Adam(), loss='binary_crossentropy')\n",
    "    \n",
    "    return model\n",
    "\n",
    "classifier = create_cnn()\n",
    "results_cnn = train_model(classifier, train_seq_x, y_train_v, valid_seq_x, is_neural_net=True)\n",
    "print(f\"Accuracy CNN: {results_nn[0]}\\nPrecision CNN: {results_nn[1]}\\nRecall CNN: {results_n[2]}\\n\")"
   ]
  },
  {
   "cell_type": "code",
   "execution_count": null,
   "metadata": {},
   "outputs": [],
   "source": [
    "def create_rnn_lstm():\n",
    "    # Add an Input Layer\n",
    "    input_layer = layers.Input((70, ))\n",
    "\n",
    "    # Add the word embedding Layer\n",
    "    embedding_layer = layers.Embedding(len(word_index) + 1, 300, weights=[embedding_matrix], trainable=False)(input_layer)\n",
    "    embedding_layer = layers.SpatialDropout1D(0.3)(embedding_layer)\n",
    "\n",
    "    # Add the LSTM Layer\n",
    "    lstm_layer = layers.LSTM(100)(embedding_layer)\n",
    "\n",
    "    # Add the output Layers\n",
    "    output_layer1 = layers.Dense(50, activation=\"relu\")(lstm_layer)\n",
    "    output_layer1 = layers.Dropout(0.25)(output_layer1)\n",
    "    output_layer2 = layers.Dense(1, activation=\"sigmoid\")(output_layer1)\n",
    "\n",
    "    # Compile the model\n",
    "    model = models.Model(inputs=input_layer, outputs=output_layer2)\n",
    "    model.compile(optimizer=optimizers.Adam(), loss='binary_crossentropy')\n",
    "    \n",
    "    return model\n",
    "\n",
    "classifier = create_rnn_lstm()\n",
    "results_lstm = train_model(classifier, train_seq_x, y_train_v, valid_seq_x, is_neural_net=True)\n",
    "print(f\"Accuracy LSTM: {results_lstm[0]}\\nPrecision CNN: {results_lstm[1]}\\nRecall CNN: {results_lstm[2]}\\n\")"
   ]
  },
  {
   "cell_type": "code",
   "execution_count": null,
   "metadata": {},
   "outputs": [],
   "source": []
  },
  {
   "cell_type": "code",
   "execution_count": null,
   "metadata": {},
   "outputs": [],
   "source": []
  },
  {
   "cell_type": "markdown",
   "metadata": {},
   "source": [
    "# Save file"
   ]
  },
  {
   "cell_type": "code",
   "execution_count": 42,
   "metadata": {},
   "outputs": [],
   "source": [
    "# Create result dataframe\n",
    "d = {'target': predicted, 'ids': test['ids']}\n",
    "results = pd.DataFrame(data = d)"
   ]
  },
  {
   "cell_type": "code",
   "execution_count": 52,
   "metadata": {},
   "outputs": [],
   "source": [
    "predict_reMAP = {1:'p', 0:'n'}\n",
    "results['target'] = results['target'].map(predict_reMAP)"
   ]
  },
  {
   "cell_type": "code",
   "execution_count": 53,
   "metadata": {},
   "outputs": [],
   "source": [
    "# Save file\n",
    "results.to_csv('results.csv', index = False)"
   ]
  }
 ],
 "metadata": {
  "kernelspec": {
   "display_name": "Python 3",
   "language": "python",
   "name": "python3"
  },
  "language_info": {
   "codemirror_mode": {
    "name": "ipython",
    "version": 3
   },
   "file_extension": ".py",
   "mimetype": "text/x-python",
   "name": "python",
   "nbconvert_exporter": "python",
   "pygments_lexer": "ipython3",
   "version": "3.7.2"
  }
 },
 "nbformat": 4,
 "nbformat_minor": 2
}
